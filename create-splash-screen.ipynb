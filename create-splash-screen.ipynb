{
  "cells": [
    {
      "cell_type": "markdown",
      "metadata": {
        "id": "view-in-github",
        "colab_type": "text"
      },
      "source": [
        "<a href=\"https://colab.research.google.com/github/gpaiva00/white-label-automated-scripts/blob/main/create-splash-screen.ipynb\" target=\"_parent\"><img src=\"https://colab.research.google.com/assets/colab-badge.svg\" alt=\"Open In Colab\"/></a>"
      ]
    },
    {
      "cell_type": "code",
      "source": [
        "from PIL import Image, ImageEnhance"
      ],
      "metadata": {
        "id": "fwqnRnAuEtML"
      },
      "execution_count": 4,
      "outputs": []
    },
    {
      "cell_type": "code",
      "source": [
        "def create_splash_screen(background_path, icon_path, output_path = './splash.png'):\n",
        "  # Carrega as imagens de fundo e ícone\n",
        "  background = Image.open(background_path).convert(\"RGBA\")\n",
        "  icon = Image.open(icon_path).convert(\"RGBA\")\n",
        "\n",
        "  # Tamanho do background\n",
        "  bg_width, bg_height = background.size\n",
        "\n",
        "  # Tamanho do ícone\n",
        "  icon_width, icon_height = icon.size\n",
        "\n",
        "  # Calcula a posição para centralizar o ícone\n",
        "  position = (\n",
        "      (bg_width - icon_width) // 2,\n",
        "      (bg_height - icon_height) // 2\n",
        "  )\n",
        "\n",
        "  # Cria uma imagem em branco (transparente) do tamanho do fundo\n",
        "  composite = Image.new(\"RGBA\", background.size)\n",
        "\n",
        "  # Cola o fundo na imagem composta\n",
        "  composite.paste(background, (0, 0))\n",
        "\n",
        "  # Cola o ícone na imagem composta com o modo de mesclagem\n",
        "  composite.paste(icon, position, icon)\n",
        "\n",
        "  # Mescla a imagem composta com o fundo\n",
        "  final_image = Image.alpha_composite(background, composite)\n",
        "\n",
        "  # Salva a imagem final\n",
        "  final_image.save(output_path)\n",
        "\n",
        "  print(\"Done.\")"
      ],
      "metadata": {
        "id": "nVlMBMe2ExEc"
      },
      "execution_count": 15,
      "outputs": []
    },
    {
      "cell_type": "code",
      "source": [
        "create_splash_screen('./background.png', 'icon.png')"
      ],
      "metadata": {
        "id": "knb5PphbLx28",
        "outputId": "407efdf6-368d-42f6-cdbe-52af5eef8d6f",
        "colab": {
          "base_uri": "https://localhost:8080/"
        }
      },
      "execution_count": 16,
      "outputs": [
        {
          "output_type": "stream",
          "name": "stdout",
          "text": [
            "Done.\n"
          ]
        }
      ]
    }
  ],
  "metadata": {
    "colab": {
      "name": "Olá, este é o Colaboratory",
      "provenance": [],
      "include_colab_link": true
    },
    "kernelspec": {
      "display_name": "Python 3",
      "name": "python3"
    }
  },
  "nbformat": 4,
  "nbformat_minor": 0
}